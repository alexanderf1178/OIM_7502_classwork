{
 "cells": [
  {
   "cell_type": "markdown",
   "id": "9383bafa",
   "metadata": {},
   "source": [
    "### Python Programming Concepts"
   ]
  },
  {
   "cell_type": "markdown",
   "id": "17df7d6e",
   "metadata": {},
   "source": [
    "#### 1. Create a variable to store the value 500 for sales"
   ]
  },
  {
   "cell_type": "code",
   "execution_count": null,
   "id": "a5f43c2f",
   "metadata": {},
   "outputs": [],
   "source": [
    "sales = 500"
   ]
  },
  {
   "cell_type": "markdown",
   "id": "6dc8b9ea",
   "metadata": {},
   "source": [
    "#### 2. Create a variable to store several values:  \n",
    "* sales: 500, 475, 625\n",
    "* integers 1 - 9 "
   ]
  },
  {
   "cell_type": "code",
   "execution_count": 5,
   "id": "4a42f6d0-3f9e-48db-98fc-2f212c19b2b2",
   "metadata": {},
   "outputs": [
    {
     "data": {
      "text/plain": [
       "[500, 475, 625]"
      ]
     },
     "execution_count": 5,
     "metadata": {},
     "output_type": "execute_result"
    }
   ],
   "source": [
    "sales = [500, 475, 625]\n",
    "sales"
   ]
  },
  {
   "cell_type": "code",
   "execution_count": 10,
   "id": "4939b1d4-8d26-4e57-9164-5d1c636e1108",
   "metadata": {},
   "outputs": [
    {
     "data": {
      "text/plain": [
       "[1, 2, 3, 4, 5, 6, 7, 8, 9]"
      ]
     },
     "execution_count": 10,
     "metadata": {},
     "output_type": "execute_result"
    }
   ],
   "source": [
    "integers = list(range(1, 10))\n",
    "integers"
   ]
  },
  {
   "cell_type": "markdown",
   "id": "62e55953",
   "metadata": {},
   "source": [
    "#### 3. Create a variable to store the names and email addresses for a number of customers\n",
    "* John, john@some.com; Ann, ann@some.com"
   ]
  },
  {
   "cell_type": "code",
   "execution_count": 36,
   "id": "b1dacc25-b721-4cb2-b968-29ff20ea03c8",
   "metadata": {},
   "outputs": [],
   "source": [
    "customers = [\n",
    "    {'name': 'John', 'mail': 'john@some.com'},\n",
    "    {'name': 'Ann', 'email': 'ann@some.com'}\n",
    "]"
   ]
  },
  {
   "cell_type": "code",
   "execution_count": 37,
   "id": "03f2b161",
   "metadata": {},
   "outputs": [
    {
     "name": "stdout",
     "output_type": "stream",
     "text": [
      "John\n"
     ]
    }
   ],
   "source": [
    "print(customers[0][\"name\"])"
   ]
  },
  {
   "cell_type": "markdown",
   "id": "d6b1e8c6",
   "metadata": {},
   "source": [
    "#### 4. Use Python to generate a random value based on each of following:\n",
    "1. between 0 and 1\n",
    "2. the standard normal distribution (rounded to two decimal places)\n",
    "3. a value between 1 and 10\n",
    "4. either H or T"
   ]
  },
  {
   "cell_type": "code",
   "execution_count": 13,
   "id": "f004d7b5",
   "metadata": {},
   "outputs": [],
   "source": [
    "import random"
   ]
  },
  {
   "cell_type": "code",
   "execution_count": 14,
   "id": "a8efc6fc",
   "metadata": {},
   "outputs": [
    {
     "data": {
      "text/plain": [
       "0.7024923901892128"
      ]
     },
     "execution_count": 14,
     "metadata": {},
     "output_type": "execute_result"
    }
   ],
   "source": [
    "rand = random.random()\n",
    "rand"
   ]
  },
  {
   "cell_type": "code",
   "execution_count": 18,
   "id": "1a29e601",
   "metadata": {},
   "outputs": [
    {
     "data": {
      "text/plain": [
       "1.55"
      ]
     },
     "execution_count": 18,
     "metadata": {},
     "output_type": "execute_result"
    }
   ],
   "source": [
    "round(random.normalvariate(),2)"
   ]
  },
  {
   "cell_type": "code",
   "execution_count": 20,
   "id": "3a150c3e",
   "metadata": {},
   "outputs": [
    {
     "data": {
      "text/plain": [
       "3"
      ]
     },
     "execution_count": 20,
     "metadata": {},
     "output_type": "execute_result"
    }
   ],
   "source": [
    "random.randint(1,10)"
   ]
  },
  {
   "cell_type": "code",
   "execution_count": 23,
   "id": "f80f4b3b",
   "metadata": {},
   "outputs": [
    {
     "data": {
      "text/plain": [
       "'H'"
      ]
     },
     "execution_count": 23,
     "metadata": {},
     "output_type": "execute_result"
    }
   ],
   "source": [
    "random.choice('HT')"
   ]
  },
  {
   "cell_type": "code",
   "execution_count": 30,
   "id": "bdb52b86",
   "metadata": {},
   "outputs": [
    {
     "data": {
      "text/plain": [
       "['', 'HHH', 'H', 'HHH']"
      ]
     },
     "execution_count": 30,
     "metadata": {},
     "output_type": "execute_result"
    }
   ],
   "source": [
    "flips =''\n",
    "for flip in range(10):\n",
    "    flips += random.choice('HT')\n",
    "flips\n",
    "\n",
    "flips.split('T')"
   ]
  },
  {
   "cell_type": "markdown",
   "id": "7eddf06a",
   "metadata": {},
   "source": [
    "#### 5. Use Python to determine your current working directory"
   ]
  },
  {
   "cell_type": "code",
   "execution_count": 31,
   "id": "d8f79474",
   "metadata": {},
   "outputs": [],
   "source": [
    "import os"
   ]
  },
  {
   "cell_type": "code",
   "execution_count": 32,
   "id": "242b550e-485f-4a85-b0e2-e7c77d7f96cd",
   "metadata": {},
   "outputs": [
    {
     "data": {
      "text/plain": [
       "'C:\\\\Users\\\\alexa\\\\Downloads'"
      ]
     },
     "execution_count": 32,
     "metadata": {},
     "output_type": "execute_result"
    }
   ],
   "source": [
    "os.getcwd()"
   ]
  },
  {
   "cell_type": "markdown",
   "id": "fc43ec50",
   "metadata": {},
   "source": [
    "#### 6. Use Python to determine how many days until New Year's Day"
   ]
  },
  {
   "cell_type": "code",
   "execution_count": 33,
   "id": "13f630fe",
   "metadata": {},
   "outputs": [],
   "source": [
    "import datetime as dt"
   ]
  },
  {
   "cell_type": "code",
   "execution_count": 34,
   "id": "6ccd4ff2-4c99-4d08-828e-49e6428e836c",
   "metadata": {},
   "outputs": [
    {
     "data": {
      "text/plain": [
       "datetime.timedelta(days=345)"
      ]
     },
     "execution_count": 34,
     "metadata": {},
     "output_type": "execute_result"
    }
   ],
   "source": [
    "today = dt.date.today()\n",
    "nyd = dt.date(2026,1,1)\n",
    "nyd-today"
   ]
  },
  {
   "cell_type": "markdown",
   "id": "2ba4ea92",
   "metadata": {},
   "source": [
    "#### 7. Write a short program that displays the future value of 1,000 earning 5%  at the end of each year for the next 5 years"
   ]
  },
  {
   "cell_type": "code",
   "execution_count": 7,
   "id": "6fef4a8c",
   "metadata": {},
   "outputs": [],
   "source": [
    "initial = 1000\n",
    "rate = 0.05\n",
    "years = 5\n",
    "future_value = initial * (1 + rate) ** years"
   ]
  },
  {
   "cell_type": "code",
   "execution_count": 8,
   "id": "e0f264ae-ff91-4ccc-8155-452d1f053b3e",
   "metadata": {},
   "outputs": [
    {
     "name": "stdout",
     "output_type": "stream",
     "text": [
      "1276.2815625000003\n"
     ]
    }
   ],
   "source": [
    "print(future_value)"
   ]
  },
  {
   "cell_type": "code",
   "execution_count": 19,
   "id": "c889f4be-4b1b-4b68-9131-ce33c51396e4",
   "metadata": {},
   "outputs": [],
   "source": [
    "initial = 1000\n",
    "rate = 0.05\n",
    "years = 5\n",
    "for year in range(1, years + 1):\n",
    "    future_value = initial * (1 + rate) ** year"
   ]
  },
  {
   "cell_type": "code",
   "execution_count": 20,
   "id": "434c1cfe-9c6b-4aa2-9df7-1aa407546bf8",
   "metadata": {},
   "outputs": [
    {
     "name": "stdout",
     "output_type": "stream",
     "text": [
      "Year 5: $ 1276.28\n"
     ]
    }
   ],
   "source": [
    "print(f\"Year {year}: ${future_value: .2f}\")"
   ]
  },
  {
   "cell_type": "markdown",
   "id": "150201c8",
   "metadata": {},
   "source": [
    "#### 8. Write a short program that prompts a user to enter a stock symbol and press enter. Add each symbol entered to a variable. The program should run until the user presses the enter key without entering anything (empty string) "
   ]
  },
  {
   "cell_type": "code",
   "execution_count": 26,
   "id": "931a346f",
   "metadata": {},
   "outputs": [
    {
     "name": "stdin",
     "output_type": "stream",
     "text": [
      "Stock symbol:  test\n",
      "Stock symbol:  test2\n",
      "Stock symbol:  test3\n",
      "Stock symbol:  \n"
     ]
    },
    {
     "name": "stdout",
     "output_type": "stream",
     "text": [
      "test\n",
      "test2\n",
      "test3\n"
     ]
    }
   ],
   "source": [
    "stock = []\n",
    "while True:\n",
    "    symbol = input(\"Stock symbol: \")\n",
    "    if symbol == \"\":\n",
    "                   break\n",
    "    stock.append(symbol)\n",
    "\n",
    "for symbol in stock:\n",
    "    print(symbol)"
   ]
  },
  {
   "cell_type": "markdown",
   "id": "fc2a7592",
   "metadata": {},
   "source": [
    "#### 9. Write the code necessary to calculate the sum of the square differences of a group of values : \n",
    "58, 32, 37, 41, 36, 36, 54, 37, 25, 53\n",
    "##### $\\Sigma $(${x}$ - $\\bar{x}$)$^2$"
   ]
  },
  {
   "cell_type": "code",
   "execution_count": 27,
   "id": "13d9a6c5",
   "metadata": {},
   "outputs": [],
   "source": [
    "values = [58, 32, 37, 41, 36, 36, 54, 37, 25, 53]\n",
    "mean = sum(values) / len(values)\n",
    "sd = [(x - mean) ** 2 for x in values]\n",
    "sum_sd = sum(sd)"
   ]
  },
  {
   "cell_type": "code",
   "execution_count": 28,
   "id": "2da2d336-d9dd-4011-be40-b33f6e0f3a3a",
   "metadata": {},
   "outputs": [
    {
     "name": "stdout",
     "output_type": "stream",
     "text": [
      "1020.9\n"
     ]
    }
   ],
   "source": [
    "print(sum_sd)"
   ]
  },
  {
   "cell_type": "markdown",
   "id": "6d6f2e64",
   "metadata": {},
   "source": [
    "#### 10. Opening, reading and writing files"
   ]
  },
  {
   "cell_type": "code",
   "execution_count": 35,
   "id": "f7fa569d",
   "metadata": {},
   "outputs": [
    {
     "ename": "FileNotFoundError",
     "evalue": "[Errno 2] No such file or directory: 'example.txt'",
     "output_type": "error",
     "traceback": [
      "\u001b[1;31m---------------------------------------------------------------------------\u001b[0m",
      "\u001b[1;31mFileNotFoundError\u001b[0m                         Traceback (most recent call last)",
      "Cell \u001b[1;32mIn[35], line 1\u001b[0m\n\u001b[1;32m----> 1\u001b[0m \u001b[38;5;28mopen\u001b[39m(\u001b[38;5;124m'\u001b[39m\u001b[38;5;124mexample.txt\u001b[39m\u001b[38;5;124m'\u001b[39m, \u001b[38;5;124m'\u001b[39m\u001b[38;5;124mr\u001b[39m\u001b[38;5;124m'\u001b[39m)\n",
      "File \u001b[1;32m~\\anaconda3\\Lib\\site-packages\\IPython\\core\\interactiveshell.py:324\u001b[0m, in \u001b[0;36m_modified_open\u001b[1;34m(file, *args, **kwargs)\u001b[0m\n\u001b[0;32m    317\u001b[0m \u001b[38;5;28;01mif\u001b[39;00m file \u001b[38;5;129;01min\u001b[39;00m {\u001b[38;5;241m0\u001b[39m, \u001b[38;5;241m1\u001b[39m, \u001b[38;5;241m2\u001b[39m}:\n\u001b[0;32m    318\u001b[0m     \u001b[38;5;28;01mraise\u001b[39;00m \u001b[38;5;167;01mValueError\u001b[39;00m(\n\u001b[0;32m    319\u001b[0m         \u001b[38;5;124mf\u001b[39m\u001b[38;5;124m\"\u001b[39m\u001b[38;5;124mIPython won\u001b[39m\u001b[38;5;124m'\u001b[39m\u001b[38;5;124mt let you open fd=\u001b[39m\u001b[38;5;132;01m{\u001b[39;00mfile\u001b[38;5;132;01m}\u001b[39;00m\u001b[38;5;124m by default \u001b[39m\u001b[38;5;124m\"\u001b[39m\n\u001b[0;32m    320\u001b[0m         \u001b[38;5;124m\"\u001b[39m\u001b[38;5;124mas it is likely to crash IPython. If you know what you are doing, \u001b[39m\u001b[38;5;124m\"\u001b[39m\n\u001b[0;32m    321\u001b[0m         \u001b[38;5;124m\"\u001b[39m\u001b[38;5;124myou can use builtins\u001b[39m\u001b[38;5;124m'\u001b[39m\u001b[38;5;124m open.\u001b[39m\u001b[38;5;124m\"\u001b[39m\n\u001b[0;32m    322\u001b[0m     )\n\u001b[1;32m--> 324\u001b[0m \u001b[38;5;28;01mreturn\u001b[39;00m io_open(file, \u001b[38;5;241m*\u001b[39margs, \u001b[38;5;241m*\u001b[39m\u001b[38;5;241m*\u001b[39mkwargs)\n",
      "\u001b[1;31mFileNotFoundError\u001b[0m: [Errno 2] No such file or directory: 'example.txt'"
     ]
    }
   ],
   "source": [
    "open('example.txt', 'r')"
   ]
  },
  {
   "cell_type": "code",
   "execution_count": 38,
   "id": "c2e2bdc1-1364-420c-95e9-48e208d0550c",
   "metadata": {},
   "outputs": [
    {
     "data": {
      "text/plain": [
       "<_io.TextIOWrapper name='example.txt' mode='w' encoding='cp1252'>"
      ]
     },
     "execution_count": 38,
     "metadata": {},
     "output_type": "execute_result"
    }
   ],
   "source": [
    "open('example.txt', 'w')"
   ]
  },
  {
   "cell_type": "markdown",
   "id": "eec548d6",
   "metadata": {},
   "source": [
    "#### 11. Create a function the will simulate rolling two die and return the value of each and and the sum "
   ]
  },
  {
   "cell_type": "code",
   "execution_count": 51,
   "id": "bb115cdc",
   "metadata": {},
   "outputs": [
    {
     "name": "stdout",
     "output_type": "stream",
     "text": [
      "Dice 1: 3, Dice 2: 4\n",
      "Sum: 7\n"
     ]
    }
   ],
   "source": [
    "import random\n",
    "def roll():\n",
    "    return random.randint(1, 6), random.randint(1, 6)\n",
    "\n",
    "dice1, dice2 = roll()\n",
    "\n",
    "print(f\"Dice 1: {dice1}, Dice 2: {dice2}\")\n",
    "\n",
    "sum = dice1 + dice2\n",
    "\n",
    "print(f\"Sum: {sum}\")"
   ]
  },
  {
   "cell_type": "markdown",
   "id": "21556d7f",
   "metadata": {},
   "source": [
    "#### 12. Write the code needed to evaluate whether a value in a group of values is negative or postive and prints an approriate message, i.e. postive, negative \n",
    "-1.59, 2.36, 1.69, 1.13, -0.91, 1.48, -0.34, 1.31, -0.74, 0.2"
   ]
  },
  {
   "cell_type": "code",
   "execution_count": 52,
   "id": "d6c38ecb",
   "metadata": {},
   "outputs": [
    {
     "name": "stdout",
     "output_type": "stream",
     "text": [
      "The number -1.59 is negative.\n",
      "The number 2.36 is positive.\n",
      "The number 1.69 is positive.\n",
      "The number 1.13 is positive.\n",
      "The number -0.91 is negative.\n",
      "The number 1.48 is positive.\n",
      "The number -0.34 is negative.\n",
      "The number 1.31 is positive.\n",
      "The number -0.74 is negative.\n",
      "The number 0.2 is positive.\n"
     ]
    }
   ],
   "source": [
    "def evaluate_number(num):\n",
    "    if num > 0:\n",
    "        return 'positive'\n",
    "    elif num < 0:\n",
    "        return 'negative'\n",
    "\n",
    "numbers = [-1.59, 2.36, 1.69, 1.13, -0.91, 1.48, -0.34, 1.31, -0.74, 0.2]\n",
    "\n",
    "results = {num: evaluate_number(num) for num in numbers}\n",
    "\n",
    "for num, posneg in results.items():\n",
    "    print(f\"The number {num} is {posneg}.\")"
   ]
  },
  {
   "cell_type": "markdown",
   "id": "8cafe65c",
   "metadata": {},
   "source": [
    "#### 14.  Complete the following:\n",
    "1. Write a program that generates 500 random integers from 1 to n, for example, the first integer will be 1 the second will be 1 or 2, the fifth between 1 and 5, and so on.\n",
    "2. The program should write each integer to a file \n",
    "3. Once all integers are written close the file\n",
    "\n",
    "##### Part 2\n",
    "1. Open and read the file into a list\n",
    "2. Create a line plot of the data"
   ]
  },
  {
   "cell_type": "code",
   "execution_count": 56,
   "id": "60a910bb",
   "metadata": {},
   "outputs": [
    {
     "name": "stdout",
     "output_type": "stream",
     "text": [
      "Numbers are:\n",
      "1 2 1 4 5 3 5 6 8 4 6 6 12 7 15 15 8 13 5 7 8 16 16 13 5 1 14 11 22 7 25 27 23 14 22 1 36 16 12 35 28 34 37 31 37 43 7 35 17 49 2 18 7 14 37 39 11 54 4 53 47 52 56 29 16 42 26 52 3 13 59 57 15 28 5 24 36 55 54 55 50 8 62 36 29 48 7 3 82 5 86 55 59 33 94 56 56 64 90 28 10 70 97 16 64 25 89 91 88 56 75 6 90 12 50 91 26 106 54 110 70 108 27 81 99 107 89 19 97 18 68 96 58 97 30 32 123 8 137 47 47 125 132 16 101 75 77 31 75 70 94 128 17 130 59 134 42 140 7 41 144 47 154 97 29 80 137 136 8 107 18 160 32 9 12 143 15 130 53 178 9 150 59 122 132 72 130 88 75 172 53 33 6 126 19 147 157 113 47 141 180 108 106 185 129 2 162 130 12 30 82 26 128 72 78 149 36 120 64 88 218 160 107 182 9 122 193 173 186 182 158 129 177 145 71 37 186 35 71 9 145 91 231 188 135 229 76 173 153 101 90 34 166 142 144 165 127 72 112 93 127 30 179 189 152 13 12 172 235 16 187 12 272 141 72 55 31 191 20 208 195 204 131 220 191 112 266 213 173 58 63 264 71 216 168 133 157 236 261 76 137 32 31 68 112 161 253 175 305 32 281 155 173 268 96 264 210 119 293 91 81 122 100 160 203 218 180 203 261 142 250 142 162 18 100 152 23 24 243 62 193 91 188 313 343 46 136 179 89 295 112 14 30 154 65 239 216 243 328 74 7 65 265 129 38 55 341 130 196 122 217 218 221 219 29 231 316 328 155 318 348 285 47 119 226 136 174 180 357 106 249 54 255 161 393 67 39 10 77 148 110 1 382 139 94 406 293 3 390 316 151 377 176 93 363 307 308 111 129 390 169 298 264 121 9 247 419 306 234 88 266 55 9 18 258 73 220 198 429 426 163 145 18 438 183 14 72 266 381 59 277 60 112 320 392 368 102 28 334 342 254 246 6 107 174 360 67 413 107 161 17 84 172 305 322 177 442 206 286 123 421 252 84 445 416 105 49 204 50 318 373 75 76 225 225 489 75 338 77 467 "
     ]
    }
   ],
   "source": [
    "import random\n",
    "\n",
    "def int_list():\n",
    "    random_int = [random.randint(1, i + 1) for i in range(500)]\n",
    "    return random_int\n",
    "\n",
    "print(\"Numbers are:\")\n",
    "for number in random_int:\n",
    "    print(number, end=' ')"
   ]
  },
  {
   "cell_type": "code",
   "execution_count": 12,
   "id": "d6b4180c",
   "metadata": {},
   "outputs": [],
   "source": [
    "import random\n",
    "\n",
    "def int_list():\n",
    "    random_int = [random.randint(1, i + 1) for i in range(500)]\n",
    "    return random_int\n",
    "\n",
    "random_num = int_list()\n",
    "\n",
    "with open('random_numbers.txt', 'w') as file:\n",
    "    for number in random_num:\n",
    "        file.write(f\"{number}\\n\")"
   ]
  },
  {
   "cell_type": "code",
   "execution_count": 16,
   "id": "adb6aa11",
   "metadata": {},
   "outputs": [],
   "source": [
    "with open('random_numbers.txt', 'r') as file:\n",
    "    random_numbers_from_file = [int(line.strip()) for line in file]"
   ]
  },
  {
   "cell_type": "code",
   "execution_count": 17,
   "id": "6745da79",
   "metadata": {},
   "outputs": [
    {
     "name": "stdout",
     "output_type": "stream",
     "text": [
      "[1, 2, 2, 1, 3, 3, 7, 6, 5, 6, 10, 9, 7, 6, 7, 11, 15, 2, 5, 17, 6, 1, 12, 15, 19, 16, 9, 18, 16, 16, 20, 23, 33, 7, 18, 9, 7, 37, 3, 15, 2, 29, 11, 35, 37, 18, 26, 48, 8, 44, 25, 44, 41, 37, 53, 16, 13, 8, 25, 50, 55, 9, 31, 6, 54, 30, 19, 53, 53, 28, 15, 19, 52, 18, 22, 53, 71, 11, 73, 46, 11, 21, 21, 29, 12, 36, 10, 16, 33, 36, 72, 15, 46, 9, 57, 74, 80, 88, 74, 44, 83, 73, 68, 102, 17, 25, 30, 83, 104, 92, 94, 27, 43, 75, 55, 31, 40, 83, 55, 100, 77, 112, 116, 57, 121, 17, 64, 118, 81, 56, 61, 128, 128, 15, 16, 71, 26, 58, 80, 11, 130, 67, 106, 55, 51, 7, 100, 92, 86, 9, 136, 89, 24, 41, 52, 142, 154, 47, 16, 114, 66, 73, 66, 70, 139, 90, 144, 20, 25, 39, 52, 66, 81, 124, 11, 78, 6, 28, 30, 34, 160, 141, 147, 118, 74, 165, 113, 154, 188, 29, 155, 191, 18, 143, 53, 177, 147, 57, 139, 153, 52, 122, 113, 176, 71, 143, 70, 96, 23, 61, 72, 195, 138, 10, 171, 50, 23, 206, 192, 28, 77, 158, 121, 88, 87, 169, 159, 184, 9, 8, 17, 127, 175, 157, 155, 5, 231, 142, 175, 71, 71, 111, 91, 114, 160, 80, 80, 170, 113, 83, 105, 59, 242, 227, 80, 134, 103, 243, 114, 178, 168, 248, 112, 234, 128, 135, 109, 105, 245, 66, 154, 202, 99, 121, 129, 210, 126, 177, 40, 280, 261, 121, 99, 264, 267, 98, 206, 187, 102, 13, 290, 232, 234, 139, 3, 39, 120, 171, 72, 47, 197, 200, 54, 140, 152, 152, 248, 188, 206, 242, 274, 4, 235, 224, 95, 308, 38, 109, 286, 116, 254, 205, 22, 58, 169, 302, 279, 65, 125, 219, 286, 328, 197, 252, 99, 298, 143, 234, 45, 170, 267, 37, 219, 130, 222, 88, 286, 206, 342, 276, 317, 45, 171, 185, 205, 243, 254, 283, 206, 310, 210, 264, 310, 16, 328, 235, 85, 58, 21, 228, 291, 105, 77, 281, 336, 308, 241, 333, 299, 289, 102, 245, 214, 121, 201, 147, 92, 3, 81, 381, 126, 5, 295, 219, 301, 333, 389, 77, 199, 229, 388, 344, 107, 384, 317, 231, 306, 237, 52, 241, 369, 123, 236, 369, 255, 92, 15, 191, 378, 121, 87, 55, 422, 298, 184, 153, 109, 97, 316, 364, 112, 428, 230, 128, 16, 404, 384, 31, 374, 91, 210, 263, 191, 373, 439, 290, 110, 236, 409, 218, 273, 14, 193, 37, 125, 166, 256, 275, 229, 211, 8, 70, 157, 28, 3, 183, 242, 260, 175, 360, 333, 20, 181, 54, 144, 98, 83, 73, 393, 475, 177, 468, 160, 432, 288, 162, 231, 226, 448, 239, 273, 421, 376, 52, 399, 447, 353, 458, 65, 144]\n"
     ]
    }
   ],
   "source": [
    "print(random_numbers_from_file)"
   ]
  },
  {
   "cell_type": "code",
   "execution_count": 18,
   "id": "21140445",
   "metadata": {},
   "outputs": [],
   "source": [
    "import matplotlib.pyplot as plt"
   ]
  },
  {
   "cell_type": "code",
   "execution_count": 20,
   "id": "3d546600",
   "metadata": {},
   "outputs": [
    {
     "data": {
      "image/png": "[encoded data removed]",
      "text/plain": [
       "<Figure size 640x480 with 1 Axes>"
      ]
     },
     "metadata": {},
     "output_type": "display_data"
    }
   ],
   "source": [
    "plt.plot(random_numbers_from_file, marker='o', linestyle='-', color='b')\n",
    "\n",
    "plt.show()"
   ]
  }
 ],
 "metadata": {
  "kernelspec": {
   "display_name": "Python 3 (ipykernel)",
   "language": "python",
   "name": "python3"
  },
  "language_info": {
   "codemirror_mode": {
    "name": "ipython",
    "version": 3
   },
   "file_extension": ".py",
   "mimetype": "text/x-python",
   "name": "python",
   "nbconvert_exporter": "python",
   "pygments_lexer": "ipython3",
   "version": "3.12.4"
  }
 },
 "nbformat": 4,
 "nbformat_minor": 5
}

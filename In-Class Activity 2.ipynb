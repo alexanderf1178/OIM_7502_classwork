{
 "cells": [
  {
   "cell_type": "code",
   "execution_count": 2,
   "id": "10f3f2bd-7cde-4e15-a2bb-aabb9ea210ac",
   "metadata": {},
   "outputs": [],
   "source": [
    "# 1: Load the data set.\n",
    "\n",
    "import pandas as pd"
   ]
  },
  {
   "cell_type": "code",
   "execution_count": 5,
   "id": "1a8c2c90-e463-4131-80b3-d6c0727a79b8",
   "metadata": {},
   "outputs": [],
   "source": [
    "df = pd.read_csv(r\"C:\\Users\\alexa\\OneDrive\\Documents\\Babson\\Advanced_Programming\\OIM7502_SP25\\data\\Wage.csv\")"
   ]
  },
  {
   "cell_type": "code",
   "execution_count": 6,
   "id": "9951c6f6-94e3-4dad-90df-b775cba9882a",
   "metadata": {},
   "outputs": [
    {
     "name": "stdout",
     "output_type": "stream",
     "text": [
      "   year  age            maritl      race        education              region  \\\n",
      "0  2006   18  1. Never Married  1. White     1. < HS Grad  2. Middle Atlantic   \n",
      "1  2004   24  1. Never Married  1. White  4. College Grad  2. Middle Atlantic   \n",
      "2  2003   45        2. Married  1. White  3. Some College  2. Middle Atlantic   \n",
      "3  2003   43        2. Married  3. Asian  4. College Grad  2. Middle Atlantic   \n",
      "4  2005   50       4. Divorced  1. White       2. HS Grad  2. Middle Atlantic   \n",
      "5  2008   54        2. Married  1. White  4. College Grad  2. Middle Atlantic   \n",
      "6  2009   44        2. Married  4. Other  3. Some College  2. Middle Atlantic   \n",
      "7  2008   30  1. Never Married  3. Asian  3. Some College  2. Middle Atlantic   \n",
      "8  2006   41  1. Never Married  2. Black  3. Some College  2. Middle Atlantic   \n",
      "9  2004   52        2. Married  1. White       2. HS Grad  2. Middle Atlantic   \n",
      "\n",
      "         jobclass          health health_ins   logwage        wage  \n",
      "0   1. Industrial       1. <=Good      2. No  4.318063   75.043154  \n",
      "1  2. Information  2. >=Very Good      2. No  4.255273   70.476020  \n",
      "2   1. Industrial       1. <=Good     1. Yes  4.875061  130.982177  \n",
      "3  2. Information  2. >=Very Good     1. Yes  5.041393  154.685293  \n",
      "4  2. Information       1. <=Good     1. Yes  4.318063   75.043154  \n",
      "5  2. Information  2. >=Very Good     1. Yes  4.845098  127.115744  \n",
      "6   1. Industrial  2. >=Very Good     1. Yes  5.133021  169.528538  \n",
      "7  2. Information       1. <=Good     1. Yes  4.716003  111.720849  \n",
      "8  2. Information  2. >=Very Good     1. Yes  4.778151  118.884359  \n",
      "9  2. Information  2. >=Very Good     1. Yes  4.857332  128.680488  \n"
     ]
    }
   ],
   "source": [
    "# 2: Display fist 10 rows\n",
    "\n",
    "print(df.head(10))"
   ]
  },
  {
   "cell_type": "code",
   "execution_count": 7,
   "id": "1b7590ca-5441-4ef6-8e5c-e3fa90824b69",
   "metadata": {},
   "outputs": [
    {
     "name": "stdout",
     "output_type": "stream",
     "text": [
      "      year  age            maritl      race        education  \\\n",
      "2990  2009   50        2. Married  2. Black       2. HS Grad   \n",
      "2991  2003   26  1. Never Married  2. Black  3. Some College   \n",
      "2992  2007   35        2. Married  1. White     1. < HS Grad   \n",
      "2993  2006   31        2. Married  1. White       2. HS Grad   \n",
      "2994  2009   31        2. Married  1. White  4. College Grad   \n",
      "2995  2008   44        2. Married  1. White  3. Some College   \n",
      "2996  2007   30        2. Married  1. White       2. HS Grad   \n",
      "2997  2005   27        2. Married  2. Black     1. < HS Grad   \n",
      "2998  2005   27  1. Never Married  1. White  3. Some College   \n",
      "2999  2009   55      5. Separated  1. White       2. HS Grad   \n",
      "\n",
      "                  region        jobclass          health health_ins   logwage  \\\n",
      "2990  2. Middle Atlantic   1. Industrial  2. >=Very Good      2. No  4.886491   \n",
      "2991  2. Middle Atlantic   1. Industrial  2. >=Very Good      2. No  4.778151   \n",
      "2992  2. Middle Atlantic   1. Industrial       1. <=Good      2. No  4.698970   \n",
      "2993  2. Middle Atlantic  2. Information  2. >=Very Good     1. Yes  4.633468   \n",
      "2994  2. Middle Atlantic  2. Information  2. >=Very Good     1. Yes  4.893207   \n",
      "2995  2. Middle Atlantic   1. Industrial  2. >=Very Good     1. Yes  5.041393   \n",
      "2996  2. Middle Atlantic   1. Industrial  2. >=Very Good      2. No  4.602060   \n",
      "2997  2. Middle Atlantic   1. Industrial       1. <=Good      2. No  4.193125   \n",
      "2998  2. Middle Atlantic   1. Industrial  2. >=Very Good     1. Yes  4.477121   \n",
      "2999  2. Middle Atlantic   1. Industrial       1. <=Good     1. Yes  4.505150   \n",
      "\n",
      "            wage  \n",
      "2990  132.487821  \n",
      "2991  118.884359  \n",
      "2992  109.833986  \n",
      "2993  102.870247  \n",
      "2994  133.380608  \n",
      "2995  154.685293  \n",
      "2996   99.689464  \n",
      "2997   66.229408  \n",
      "2998   87.981033  \n",
      "2999   90.481913  \n"
     ]
    }
   ],
   "source": [
    "#3: Display last 10 rows\n",
    "\n",
    "print(df.tail(10))"
   ]
  },
  {
   "cell_type": "code",
   "execution_count": 8,
   "id": "45306f96-3f42-4b26-84d7-3cb3e368e8de",
   "metadata": {},
   "outputs": [
    {
     "name": "stdout",
     "output_type": "stream",
     "text": [
      "3000\n"
     ]
    }
   ],
   "source": [
    "# 4: How many rows?\n",
    "\n",
    "number_rows = df.shape[0]\n",
    "print(number_rows)"
   ]
  },
  {
   "cell_type": "code",
   "execution_count": 9,
   "id": "a2020be2-fc7d-46cb-8798-ba6a0deb2cf5",
   "metadata": {},
   "outputs": [
    {
     "name": "stdout",
     "output_type": "stream",
     "text": [
      "<class 'pandas.core.frame.DataFrame'>\n",
      "RangeIndex: 3000 entries, 0 to 2999\n",
      "Data columns (total 11 columns):\n",
      " #   Column      Non-Null Count  Dtype  \n",
      "---  ------      --------------  -----  \n",
      " 0   year        3000 non-null   int64  \n",
      " 1   age         3000 non-null   int64  \n",
      " 2   maritl      3000 non-null   object \n",
      " 3   race        3000 non-null   object \n",
      " 4   education   3000 non-null   object \n",
      " 5   region      3000 non-null   object \n",
      " 6   jobclass    3000 non-null   object \n",
      " 7   health      3000 non-null   object \n",
      " 8   health_ins  3000 non-null   object \n",
      " 9   logwage     3000 non-null   float64\n",
      " 10  wage        3000 non-null   float64\n",
      "dtypes: float64(2), int64(2), object(7)\n",
      "memory usage: 257.9+ KB\n",
      "None\n"
     ]
    }
   ],
   "source": [
    "# 5: Meta data\n",
    "\n",
    "print(df.info())"
   ]
  },
  {
   "cell_type": "code",
   "execution_count": 12,
   "id": "8949cb57-778d-463c-9b88-71898b20cd49",
   "metadata": {},
   "outputs": [
    {
     "name": "stdout",
     "output_type": "stream",
     "text": [
      "year    int64\n",
      "age     int64\n",
      "dtype: object\n"
     ]
    }
   ],
   "source": [
    "# 6: Data types of 2 columns\n",
    "\n",
    "print(df[['year','age']].dtypes)"
   ]
  },
  {
   "cell_type": "code",
   "execution_count": 13,
   "id": "7c398a3b-c5d6-4002-98df-327b615b3576",
   "metadata": {},
   "outputs": [
    {
     "name": "stdout",
     "output_type": "stream",
     "text": [
      "Index(['year', 'age', 'maritl', 'race', 'education', 'region', 'jobclass',\n",
      "       'health', 'health_ins', 'logwage', 'wage'],\n",
      "      dtype='object')\n"
     ]
    }
   ],
   "source": [
    "# 7: Column names\n",
    "\n",
    "print(df.columns)"
   ]
  },
  {
   "cell_type": "code",
   "execution_count": 14,
   "id": "35646c8d-96b6-4d91-a4b9-b628e3ccbafc",
   "metadata": {},
   "outputs": [
    {
     "name": "stdout",
     "output_type": "stream",
     "text": [
      "RangeIndex(start=0, stop=3000, step=1)\n"
     ]
    }
   ],
   "source": [
    "# 8: Index\n",
    "\n",
    "print(df.index)"
   ]
  },
  {
   "cell_type": "code",
   "execution_count": 16,
   "id": "b41a7e8d-06df-4e47-b3a6-e7c10e4570ef",
   "metadata": {},
   "outputs": [
    {
     "name": "stdout",
     "output_type": "stream",
     "text": [
      "33000\n"
     ]
    }
   ],
   "source": [
    "# 9: Ind elements\n",
    "\n",
    "print(df.size)"
   ]
  },
  {
   "cell_type": "code",
   "execution_count": 21,
   "id": "3a5db7da-9c6e-4e8b-a16c-5f31c7480ed0",
   "metadata": {},
   "outputs": [
    {
     "name": "stdout",
     "output_type": "stream",
     "text": [
      "number of columns: 11\n",
      "number of rows: 3000\n"
     ]
    }
   ],
   "source": [
    "# 10: How many columns/rows?\n",
    "\n",
    "columns = df.shape[1]\n",
    "print(f\"number of columns: {columns}\")\n",
    "\n",
    "rows = df.shape[0]\n",
    "print(f\"number of rows: {rows}\")"
   ]
  },
  {
   "cell_type": "code",
   "execution_count": 22,
   "id": "c03b7beb-27ed-4f4a-bba1-a2ff21d24371",
   "metadata": {},
   "outputs": [
    {
     "name": "stdout",
     "output_type": "stream",
     "text": [
      "              wage          age\n",
      "count  3000.000000  3000.000000\n",
      "mean    111.703608    42.414667\n",
      "std      41.728595    11.542406\n",
      "min      20.085537    18.000000\n",
      "25%      85.383940    33.750000\n",
      "50%     104.921507    42.000000\n",
      "75%     128.680488    51.000000\n",
      "max     318.342430    80.000000\n"
     ]
    }
   ],
   "source": [
    "# 11: Stats for wage and age.\n",
    "\n",
    "print(df[['wage','age']].describe())"
   ]
  },
  {
   "cell_type": "code",
   "execution_count": 24,
   "id": "37288739-2575-4d05-bb32-686fe2fd1bbb",
   "metadata": {},
   "outputs": [
    {
     "name": "stdout",
     "output_type": "stream",
     "text": [
      "            wage                                                           \\\n",
      "           count        mean        std        min        25%         50%   \n",
      "race                                                                        \n",
      "1. White  2480.0  112.563666  41.733830  20.085537  86.695155  106.348256   \n",
      "2. Black   293.0  101.601177  37.162486  23.274704  81.283253   94.072715   \n",
      "3. Asian   190.0  120.288288  46.422514  34.607418  87.981033  115.375039   \n",
      "4. Other    37.0   89.973326  29.153530  38.223583  71.319639   81.283253   \n",
      "\n",
      "                                     age                                     \\\n",
      "                 75%         max   count       mean        std   min    25%   \n",
      "race                                                                          \n",
      "1. White  130.042934  314.329336  2480.0  42.394758  11.365655  18.0  34.00   \n",
      "2. Black  117.146817  318.342430   293.0  43.563140  13.012913  18.0  33.00   \n",
      "3. Asian  144.828129  299.262977   190.0  41.821053  11.218823  22.0  32.25   \n",
      "4. Other  104.921507  169.528538    37.0  37.702703  11.553895  21.0  28.00   \n",
      "\n",
      "                            \n",
      "           50%   75%   max  \n",
      "race                        \n",
      "1. White  42.0  51.0  80.0  \n",
      "2. Black  44.0  52.0  75.0  \n",
      "3. Asian  40.0  50.0  76.0  \n",
      "4. Other  39.0  47.0  65.0  \n"
     ]
    }
   ],
   "source": [
    "# 12: Stats grouped by race\n",
    "\n",
    "print(df.groupby('race')[['wage','age']].describe())"
   ]
  },
  {
   "cell_type": "code",
   "execution_count": null,
   "id": "8702a3fb-a8bb-4af3-a4ab-e693fbbdfd39",
   "metadata": {},
   "outputs": [],
   "source": [
    "# 13: Mean/Median\n",
    "\n",
    "# the mean is the average of the data and median is the middle data point when all points are listed in order.\n",
    "# when these numbers are similar, it means that data is close to symmetrical and has a normal distribution of a bell curve."
   ]
  },
  {
   "cell_type": "code",
   "execution_count": 27,
   "id": "af59ec3b-8155-4a96-80d6-e77a30a55d95",
   "metadata": {},
   "outputs": [
    {
     "name": "stdout",
     "output_type": "stream",
     "text": [
      "      age        wage\n",
      "0      18   75.043154\n",
      "1      24   70.476020\n",
      "2      45  130.982177\n",
      "3      43  154.685293\n",
      "4      50   75.043154\n",
      "...   ...         ...\n",
      "2995   44  154.685293\n",
      "2996   30   99.689464\n",
      "2997   27   66.229408\n",
      "2998   27   87.981033\n",
      "2999   55   90.481913\n",
      "\n",
      "[3000 rows x 2 columns]\n"
     ]
    }
   ],
   "source": [
    "# 14: age and wage\n",
    "\n",
    "print(df[['age', 'wage']])"
   ]
  },
  {
   "cell_type": "code",
   "execution_count": 28,
   "id": "c27a0567-8dca-4202-b184-0909de67aea8",
   "metadata": {},
   "outputs": [
    {
     "name": "stdout",
     "output_type": "stream",
     "text": [
      "0.1956372015635887\n"
     ]
    }
   ],
   "source": [
    "# 15: age/wage correleated\n",
    "\n",
    "print(df['age'].corr(df['wage']))"
   ]
  },
  {
   "cell_type": "code",
   "execution_count": null,
   "id": "b7fc3fd4-b0b5-424b-a942-bc9804bcf6e2",
   "metadata": {},
   "outputs": [],
   "source": [
    "# with a correlation coefficient closer to 0 than 1, there is little correlation between age and wage."
   ]
  },
  {
   "cell_type": "code",
   "execution_count": 32,
   "id": "018c749c-04a5-4c4f-b48e-2cfaac2e32de",
   "metadata": {},
   "outputs": [
    {
     "name": "stdout",
     "output_type": "stream",
     "text": [
      "206     318.342430\n",
      "1229    318.342430\n",
      "503     314.329336\n",
      "1293    311.934569\n",
      "1112    309.571771\n",
      "2712    309.571771\n",
      "2893    299.262977\n",
      "2925    295.991250\n",
      "489     284.524741\n",
      "347     281.745971\n",
      "Name: wage, dtype: float64\n"
     ]
    }
   ],
   "source": [
    "#16: top 10 wage/salary\n",
    "\n",
    "print(df.nlargest(10,'wage')['wage'])"
   ]
  },
  {
   "cell_type": "code",
   "execution_count": 35,
   "id": "bc6d6382-a768-4ef0-999a-da608dedf199",
   "metadata": {},
   "outputs": [
    {
     "name": "stdout",
     "output_type": "stream",
     "text": [
      "206     662152.254518\n",
      "1229    662152.254518\n",
      "503     653805.019806\n",
      "1293    648823.903305\n",
      "1112    643909.284234\n",
      "2712    643909.284234\n",
      "2893    622466.991669\n",
      "2925    615661.799964\n",
      "489     591811.461077\n",
      "347     586031.618748\n",
      "Name: salary, dtype: float64\n"
     ]
    }
   ],
   "source": [
    "# wage into salary based off 40 hours a week, 52 weeks a year (2080)\n",
    "\n",
    "df['salary'] = df['wage'] * 2080\n",
    "\n",
    "print(df.nlargest(10,'salary')['salary'])"
   ]
  },
  {
   "cell_type": "code",
   "execution_count": 36,
   "id": "30676f57-a068-4e0a-a60e-44b38b05d56b",
   "metadata": {},
   "outputs": [
    {
     "name": "stdout",
     "output_type": "stream",
     "text": [
      "race\n",
      "1. White    2480\n",
      "2. Black     293\n",
      "3. Asian     190\n",
      "4. Other      37\n",
      "Name: count, dtype: int64\n"
     ]
    }
   ],
   "source": [
    "# 17: race counts\n",
    "\n",
    "print(df['race'].value_counts())"
   ]
  },
  {
   "cell_type": "code",
   "execution_count": 37,
   "id": "00ac778b-b346-4122-adcb-8e74d08bb977",
   "metadata": {},
   "outputs": [
    {
     "name": "stdout",
     "output_type": "stream",
     "text": [
      "race\n",
      "1. White    0.826667\n",
      "2. Black    0.097667\n",
      "3. Asian    0.063333\n",
      "4. Other    0.012333\n",
      "Name: proportion, dtype: float64\n"
     ]
    }
   ],
   "source": [
    "# 18: proportion of each race\n",
    "\n",
    "print(df['race'].value_counts(normalize=True))"
   ]
  },
  {
   "cell_type": "code",
   "execution_count": 38,
   "id": "6606101f-8843-4c30-97cd-6a64aa39cc9b",
   "metadata": {},
   "outputs": [
    {
     "name": "stdout",
     "output_type": "stream",
     "text": [
      "region\n",
      "2. Middle Atlantic    1.0\n",
      "Name: proportion, dtype: float64\n"
     ]
    }
   ],
   "source": [
    "# 19: bar plot of regional prop\n",
    "\n",
    "print(df['region'].value_counts(normalize=True))"
   ]
  },
  {
   "cell_type": "code",
   "execution_count": null,
   "id": "ad89eb44-ee91-4b10-bf46-ad2106a0d3e5",
   "metadata": {},
   "outputs": [],
   "source": [
    "# only 1 region, no need for bar chart"
   ]
  }
 ],
 "metadata": {
  "kernelspec": {
   "display_name": "Python 3 (ipykernel)",
   "language": "python",
   "name": "python3"
  },
  "language_info": {
   "codemirror_mode": {
    "name": "ipython",
    "version": 3
   },
   "file_extension": ".py",
   "mimetype": "text/x-python",
   "name": "python",
   "nbconvert_exporter": "python",
   "pygments_lexer": "ipython3",
   "version": "3.12.4"
  }
 },
 "nbformat": 4,
 "nbformat_minor": 5
}
